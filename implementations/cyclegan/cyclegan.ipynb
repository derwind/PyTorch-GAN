{
  "nbformat": 4,
  "nbformat_minor": 0,
  "metadata": {
    "colab": {
      "name": "CycleGAN",
      "provenance": [],
      "collapsed_sections": [],
      "include_colab_link": true
    },
    "kernelspec": {
      "name": "python3",
      "display_name": "Python 3"
    },
    "accelerator": "GPU"
  },
 "cells": [
  {
   "cell_type": "markdown",
   "metadata": {
    "id": "view-in-github",
    "colab_type": "text"
   },
   "source": [
    "<a href=\"https://colab.research.google.com/github/derwind/PyTorch-GAN/blob/study/implementations/cyclegan/cyclegan.ipynb\" target=\"_parent\"><img src=\"https://colab.research.google.com/assets/colab-badge.svg\" alt=\"Open In Colab\"/></a>"
   ]
  },
  {
   "cell_type": "markdown",
   "metadata": {
    "id": "a2e88cef-5cfe-48d9-9f08-93ffef459f76",
    "colab_type": "text"
   },
   "source": [
    "# Install"
   ]
  },
  {
   "cell_type": "code",
   "execution_count": 0,
   "metadata": {
    "id": "4b0a4dcd-e194-4457-992e-9851ed0d1854",
    "colab_type": "code",
    "colab": {}
   },
   "outputs": [],
   "source": [
    "!git clone https://github.com/derwind/PyTorch-GAN.git"
   ]
  },
  {
   "cell_type": "code",
   "execution_count": 0,
   "metadata": {
    "id": "32cc538f-8bf5-4320-a656-f41abcb8ffd8",
    "colab_type": "code",
    "colab": {}
   },
   "outputs": [],
   "source": [
    "import os\n",
    "os.chdir(\"PyTorch-GAN\")"
   ]
  },
  {
   "cell_type": "code",
   "execution_count": 0,
   "metadata": {
    "id": "82a9df41-32e9-47ad-abff-49fc3476d343",
    "colab_type": "code",
    "colab": {}
   },
   "outputs": [],
   "source": [
    "!pip install -r requirements.txt"
   ]
  },
  {
   "cell_type": "markdown",
   "metadata": {
    "id": "8288bc1b-9c5a-4ab8-ba88-5b82c589b549",
    "colab_type": "text"
   },
   "source": [
    "# Training"
   ]
  },
  {
   "cell_type": "code",
   "execution_count": 0,
   "metadata": {
    "id": "a37b52e8-a7d3-4326-a719-567cb045aa1e",
    "colab_type": "code",
    "colab": {}
   },
   "outputs": [],
   "source": [
    "os.chdir(\"implementations/cyclegan\")"
   ]
  },
  {
   "cell_type": "code",
   "execution_count": 0,
   "metadata": {
    "id": "I_HIvUeOWHdh",
    "colab_type": "code",
    "colab": {}
   },
   "outputs": [],
   "source": [
    "os.makedirs(\"../../data/monet2photo\", exist_ok=True)\n",
    "!curl https://people.eecs.berkeley.edu/~taesung_park/CycleGAN/datasets/monet2photo.zip -o ../../data/monet2photo.zip\n",
    "!unzip ../../data/monet2photo.zip -d ../../data/\n",
    "!rm ../../data/monet2photo.zip\n",
    "!mkdir -p ../../data/monet2photo/train/A ../../data/monet2photo/train/B ../../data/monet2photo/test/A ../../data/monet2photo/test/B\n",
    "!cp -r ../../data/monet2photo/trainA/*.* ../../data/monet2photo/train/A\n",
    "!cp -r ../../data/monet2photo/trainB/*.* ../../data/monet2photo/train/B\n",
    "!cp -r ../../data/monet2photo/testA/*.* ../../data/monet2photo/test/A\n",
    "!cp -r ../../data/monet2photo/testB/*.* ../../data/monet2photo/test/B\n",
    "!rm -rf ../../data/monet2photo/trainA ../../data/monet2photo/trainB ../../data/monet2photo/testA ../../data/monet2photo/testB\n"
   ]
  },
  {
   "cell_type": "code",
   "execution_count": 0,
   "metadata": {
    "id": "e07cdcb0-c717-4964-89bb-f9406800a2ac",
    "colab_type": "code",
    "colab": {}
   },
   "outputs": [],
   "source": [
    "!python cyclegan.py"
   ]
  }
 ]
}
